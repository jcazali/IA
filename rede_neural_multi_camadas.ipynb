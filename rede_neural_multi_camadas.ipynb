{
  "nbformat": 4,
  "nbformat_minor": 0,
  "metadata": {
    "colab": {
      "name": "rede_neural_multi_camadas.ipynb",
      "provenance": [],
      "collapsed_sections": [],
      "authorship_tag": "ABX9TyOoWbx2LSd+qqh3amEzguol",
      "include_colab_link": true
    },
    "kernelspec": {
      "name": "python3",
      "display_name": "Python 3"
    },
    "language_info": {
      "name": "python"
    }
  },
  "cells": [
    {
      "cell_type": "markdown",
      "metadata": {
        "id": "view-in-github",
        "colab_type": "text"
      },
      "source": [
        "<a href=\"https://colab.research.google.com/github/jcazali/IA/blob/main/rede_neural_multi_camadas.ipynb\" target=\"_parent\"><img src=\"https://colab.research.google.com/assets/colab-badge.svg\" alt=\"Open In Colab\"/></a>"
      ]
    },
    {
      "cell_type": "code",
      "metadata": {
        "id": "9kl7IDgBHH_q"
      },
      "source": [
        "import pandas as pd\n",
        "# Para criar rede neural sequencial de múltiplas camadas\n",
        "from keras.models import Sequential\n",
        "# Conceito de fully conected, um neurônio conectado a todos os outros\n",
        "from keras.layers import Dense\n",
        "from sklearn.model_selection import train_test_split\n",
        "from sklearn.preprocessing import LabelEncoder\n",
        "from keras.utils import np_utils\n",
        "\n",
        "base = pd.read_csv(\"Iris.csv\")\n",
        "# eliminando colunas id e classe\n",
        "previsor = base.iloc[:, 1:5].values\n",
        "# criando uma variável apenas com a classe \n",
        "classe = base.iloc[:, 5].values\n",
        "\n",
        "# 0 iris-setosa     1 0 0 \n",
        "# 1 iris-versicolor 0 1 0\n",
        "# 2 iris-viginica   0 0 1\n",
        "labelencoder = LabelEncoder()\n",
        "classe = labelencoder.fit_transform(classe)\n",
        "classe_dummy = np_utils.to_categorical(classe)\n",
        "print(classe_dummy)\n",
        "\n",
        "# dividindo os dados em treino e teste\n",
        "previsor_treinamento, previsor_teste, classe_treinamento, classe_teste = train_test_split(previsor, classe_dummy, test_size=0.25)\n",
        "#print(len(previsor_treinamento), len(previsor_teste), len(classe_treinamento), len(classe_teste))\n",
        "\n",
        "# Instancia a classe, inicializa a rede neural\n",
        "classificador = Sequential()\n",
        "# units = quantidade de neurônios na primeira camada oculta. Qtd de variáveis + qtd de classes / 2\n",
        "# activation = função de ativação escolhida\n",
        "#input_dim = qtd de variáveis do problema\n",
        "classificador.add(Dense(units=4, activation='relu', input_dim=4)) # primeira camada oculta\n",
        "classificador.add(Dense(units=4, activation='relu')) # segunda camada oculta\n",
        "classificador.add(Dense(units=3, activation='softmax')) # saída da rede neural, ativado pela Softmax(units=3, pois temos 3 classes)\n",
        "# optimizer = utiliza a função adam, para calcular a melhor descida do gradiente\n",
        "# loss = calcula a perda entre classes\n",
        "# metrics = define a métrica utilizada para calcular a assertividade\n",
        "classificador.compile(optimizer='adam', loss='categorical_crossentropy', metrics=['categorical_accuracy'])\n",
        "# treinando o modelo\n",
        "classificador.fit(previsor_treinamento, classe_treinamento, batch_size=10, epochs=1000)"
      ],
      "execution_count": null,
      "outputs": []
    },
    {
      "cell_type": "code",
      "metadata": {
        "colab": {
          "base_uri": "https://localhost:8080/"
        },
        "id": "XRKhodN0XSK8",
        "outputId": "547443e4-a2ab-4f4a-b224-7a8a066ed809"
      },
      "source": [
        "resultado = classificador.evaluate(previsor_teste, classe_teste)\n",
        "print(resultado)"
      ],
      "execution_count": 17,
      "outputs": [
        {
          "output_type": "stream",
          "name": "stdout",
          "text": [
            "2/2 [==============================] - 0s 6ms/step - loss: 0.1699 - categorical_accuracy: 0.9474\n",
            "[0.1699041873216629, 0.9473684430122375]\n"
          ]
        }
      ]
    }
  ]
}
