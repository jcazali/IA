{
  "nbformat": 4,
  "nbformat_minor": 0,
  "metadata": {
    "colab": {
      "name": "scikit-learn_classificacao_texto.ipynb",
      "provenance": [],
      "collapsed_sections": [],
      "authorship_tag": "ABX9TyOycHX39QCKxl38EvUtH6ET",
      "include_colab_link": true
    },
    "kernelspec": {
      "name": "python3",
      "display_name": "Python 3"
    },
    "language_info": {
      "name": "python"
    }
  },
  "cells": [
    {
      "cell_type": "markdown",
      "metadata": {
        "id": "view-in-github",
        "colab_type": "text"
      },
      "source": [
        "<a href=\"https://colab.research.google.com/github/jcazali/IA/blob/main/scikit_learn_classificacao_texto.ipynb\" target=\"_parent\"><img src=\"https://colab.research.google.com/assets/colab-badge.svg\" alt=\"Open In Colab\"/></a>"
      ]
    },
    {
      "cell_type": "code",
      "metadata": {
        "colab": {
          "base_uri": "https://localhost:8080/"
        },
        "id": "TgTWB-ZtiNRf",
        "outputId": "543cfd8f-e9dd-4ad0-b836-314593c489cd"
      },
      "source": [
        "!pip install numpy scikit-learn pandas nltk "
      ],
      "execution_count": null,
      "outputs": [
        {
          "output_type": "stream",
          "name": "stdout",
          "text": [
            "Requirement already satisfied: numpy in /usr/local/lib/python3.7/dist-packages (1.19.5)\n",
            "Requirement already satisfied: scikit-learn in /usr/local/lib/python3.7/dist-packages (0.22.2.post1)\n",
            "Requirement already satisfied: pandas in /usr/local/lib/python3.7/dist-packages (1.1.5)\n",
            "Requirement already satisfied: nltk in /usr/local/lib/python3.7/dist-packages (3.2.5)\n",
            "Requirement already satisfied: scipy>=0.17.0 in /usr/local/lib/python3.7/dist-packages (from scikit-learn) (1.4.1)\n",
            "Requirement already satisfied: joblib>=0.11 in /usr/local/lib/python3.7/dist-packages (from scikit-learn) (1.0.1)\n",
            "Requirement already satisfied: pytz>=2017.2 in /usr/local/lib/python3.7/dist-packages (from pandas) (2018.9)\n",
            "Requirement already satisfied: python-dateutil>=2.7.3 in /usr/local/lib/python3.7/dist-packages (from pandas) (2.8.2)\n",
            "Requirement already satisfied: six>=1.5 in /usr/local/lib/python3.7/dist-packages (from python-dateutil>=2.7.3->pandas) (1.15.0)\n"
          ]
        }
      ]
    },
    {
      "cell_type": "code",
      "metadata": {
        "id": "8HkTICNjk39v"
      },
      "source": [
        "import pandas as pd"
      ],
      "execution_count": null,
      "outputs": []
    },
    {
      "cell_type": "markdown",
      "metadata": {
        "id": "5LBwMeDtlpRv"
      },
      "source": [
        "Extraindo o arquivo no diretório raiz\n"
      ]
    },
    {
      "cell_type": "code",
      "metadata": {
        "colab": {
          "base_uri": "https://localhost:8080/"
        },
        "id": "XvUF1nwCkvMM",
        "outputId": "a790fd31-92e2-44e4-bc04-59d0af49475d"
      },
      "source": [
        "!unzip archive.zip -d ."
      ],
      "execution_count": null,
      "outputs": [
        {
          "output_type": "stream",
          "name": "stdout",
          "text": [
            "Archive:  archive.zip\n",
            "  inflating: ./imdb-reviews-pt-br.csv  \n"
          ]
        }
      ]
    },
    {
      "cell_type": "markdown",
      "metadata": {
        "id": "zo4MOVetlt_r"
      },
      "source": [
        "Carregando o arquivo na memória"
      ]
    },
    {
      "cell_type": "code",
      "metadata": {
        "id": "VdqEJET-k6nX"
      },
      "source": [
        "dataset= pd.read_csv('imdb-reviews-pt-br.csv')"
      ],
      "execution_count": null,
      "outputs": []
    },
    {
      "cell_type": "code",
      "metadata": {
        "colab": {
          "base_uri": "https://localhost:8080/"
        },
        "id": "VLWTo6D5lR7j",
        "outputId": "8944cbb3-3bda-4b21-dafa-58b78263b345"
      },
      "source": [
        "print(dataset['text_pt'][0])\n",
        "print(dataset['sentiment'] [0])\n",
        "print(dataset['sentiment'] == 'pos')"
      ],
      "execution_count": null,
      "outputs": [
        {
          "output_type": "stream",
          "name": "stdout",
          "text": [
            "Mais uma vez, o Sr. Costner arrumou um filme por muito mais tempo do que o necessário. Além das terríveis seqüências de resgate no mar, das quais há muito poucas, eu simplesmente não me importei com nenhum dos personagens. A maioria de nós tem fantasmas no armário, e o personagem Costers é realizado logo no início, e depois esquecido até muito mais tarde, quando eu não me importava. O personagem com o qual deveríamos nos importar é muito arrogante e superconfiante, Ashton Kutcher. O problema é que ele sai como um garoto que pensa que é melhor do que qualquer outra pessoa ao seu redor e não mostra sinais de um armário desordenado. Seu único obstáculo parece estar vencendo Costner. Finalmente, quando estamos bem além do meio do caminho, Costner nos conta sobre os fantasmas dos Kutchers. Somos informados de por que Kutcher é levado a ser o melhor sem pressentimentos ou presságios anteriores. Nenhuma mágica aqui, era tudo que eu podia fazer para não desligar uma hora.\n",
            "neg\n",
            "0        False\n",
            "1        False\n",
            "2        False\n",
            "3        False\n",
            "4        False\n",
            "         ...  \n",
            "49454     True\n",
            "49455     True\n",
            "49456     True\n",
            "49457     True\n",
            "49458     True\n",
            "Name: sentiment, Length: 49459, dtype: bool\n"
          ]
        }
      ]
    },
    {
      "cell_type": "markdown",
      "metadata": {
        "id": "_n2NXxotoCnP"
      },
      "source": [
        "Eliminando as colunas desnecessárias"
      ]
    },
    {
      "cell_type": "code",
      "metadata": {
        "colab": {
          "base_uri": "https://localhost:8080/",
          "height": 419
        },
        "id": "4BMCVsYnnrrc",
        "outputId": "776a6b6a-6bdb-4fc0-9c60-d067205f9eb1"
      },
      "source": [
        "dataset = dataset[['text_pt','sentiment']]\n",
        "dataset"
      ],
      "execution_count": null,
      "outputs": [
        {
          "output_type": "execute_result",
          "data": {
            "text/html": [
              "<div>\n",
              "<style scoped>\n",
              "    .dataframe tbody tr th:only-of-type {\n",
              "        vertical-align: middle;\n",
              "    }\n",
              "\n",
              "    .dataframe tbody tr th {\n",
              "        vertical-align: top;\n",
              "    }\n",
              "\n",
              "    .dataframe thead th {\n",
              "        text-align: right;\n",
              "    }\n",
              "</style>\n",
              "<table border=\"1\" class=\"dataframe\">\n",
              "  <thead>\n",
              "    <tr style=\"text-align: right;\">\n",
              "      <th></th>\n",
              "      <th>text_pt</th>\n",
              "      <th>sentiment</th>\n",
              "    </tr>\n",
              "  </thead>\n",
              "  <tbody>\n",
              "    <tr>\n",
              "      <th>0</th>\n",
              "      <td>Mais uma vez, o Sr. Costner arrumou um filme p...</td>\n",
              "      <td>neg</td>\n",
              "    </tr>\n",
              "    <tr>\n",
              "      <th>1</th>\n",
              "      <td>Este é um exemplo do motivo pelo qual a maiori...</td>\n",
              "      <td>neg</td>\n",
              "    </tr>\n",
              "    <tr>\n",
              "      <th>2</th>\n",
              "      <td>Primeiro de tudo eu odeio esses raps imbecis, ...</td>\n",
              "      <td>neg</td>\n",
              "    </tr>\n",
              "    <tr>\n",
              "      <th>3</th>\n",
              "      <td>Nem mesmo os Beatles puderam escrever músicas ...</td>\n",
              "      <td>neg</td>\n",
              "    </tr>\n",
              "    <tr>\n",
              "      <th>4</th>\n",
              "      <td>Filmes de fotos de latão não é uma palavra apr...</td>\n",
              "      <td>neg</td>\n",
              "    </tr>\n",
              "    <tr>\n",
              "      <th>...</th>\n",
              "      <td>...</td>\n",
              "      <td>...</td>\n",
              "    </tr>\n",
              "    <tr>\n",
              "      <th>49454</th>\n",
              "      <td>Como a média de votos era muito baixa, e o fat...</td>\n",
              "      <td>pos</td>\n",
              "    </tr>\n",
              "    <tr>\n",
              "      <th>49455</th>\n",
              "      <td>O enredo teve algumas reviravoltas infelizes e...</td>\n",
              "      <td>pos</td>\n",
              "    </tr>\n",
              "    <tr>\n",
              "      <th>49456</th>\n",
              "      <td>Estou espantado com a forma como este filme e ...</td>\n",
              "      <td>pos</td>\n",
              "    </tr>\n",
              "    <tr>\n",
              "      <th>49457</th>\n",
              "      <td>A Christmas Together realmente veio antes do m...</td>\n",
              "      <td>pos</td>\n",
              "    </tr>\n",
              "    <tr>\n",
              "      <th>49458</th>\n",
              "      <td>O drama romântico da classe trabalhadora do di...</td>\n",
              "      <td>pos</td>\n",
              "    </tr>\n",
              "  </tbody>\n",
              "</table>\n",
              "<p>49459 rows × 2 columns</p>\n",
              "</div>"
            ],
            "text/plain": [
              "                                                 text_pt sentiment\n",
              "0      Mais uma vez, o Sr. Costner arrumou um filme p...       neg\n",
              "1      Este é um exemplo do motivo pelo qual a maiori...       neg\n",
              "2      Primeiro de tudo eu odeio esses raps imbecis, ...       neg\n",
              "3      Nem mesmo os Beatles puderam escrever músicas ...       neg\n",
              "4      Filmes de fotos de latão não é uma palavra apr...       neg\n",
              "...                                                  ...       ...\n",
              "49454  Como a média de votos era muito baixa, e o fat...       pos\n",
              "49455  O enredo teve algumas reviravoltas infelizes e...       pos\n",
              "49456  Estou espantado com a forma como este filme e ...       pos\n",
              "49457  A Christmas Together realmente veio antes do m...       pos\n",
              "49458  O drama romântico da classe trabalhadora do di...       pos\n",
              "\n",
              "[49459 rows x 2 columns]"
            ]
          },
          "metadata": {},
          "execution_count": 11
        }
      ]
    },
    {
      "cell_type": "code",
      "metadata": {
        "colab": {
          "base_uri": "https://localhost:8080/"
        },
        "id": "s-gwpvyGoHmz",
        "outputId": "97247eb0-694e-4aba-fa3d-070a80ff0e40"
      },
      "source": [
        "x = dataset['text_pt']\n",
        "y = dataset['sentiment']\n",
        "x.shape, y.shape"
      ],
      "execution_count": null,
      "outputs": [
        {
          "output_type": "execute_result",
          "data": {
            "text/plain": [
              "((49459,), (49459,))"
            ]
          },
          "metadata": {},
          "execution_count": 12
        }
      ]
    },
    {
      "cell_type": "code",
      "metadata": {
        "id": "Woj9h24fpRUf"
      },
      "source": [
        "from sklearn.feature_extraction.text import CountVectorizer\n",
        "import nltk"
      ],
      "execution_count": null,
      "outputs": []
    },
    {
      "cell_type": "code",
      "metadata": {
        "id": "AeZ3ssszp8An"
      },
      "source": [
        "vec = CountVectorizer(min_df = 2, tokenizer = nltk.word_tokenize)"
      ],
      "execution_count": null,
      "outputs": []
    },
    {
      "cell_type": "code",
      "metadata": {
        "id": "LiH9cDA8rRfY",
        "colab": {
          "base_uri": "https://localhost:8080/"
        },
        "outputId": "69bc13a2-0899-471b-9d6d-8fea2d2db50a"
      },
      "source": [
        "nltk.download('punkt')"
      ],
      "execution_count": null,
      "outputs": [
        {
          "output_type": "stream",
          "name": "stdout",
          "text": [
            "[nltk_data] Downloading package punkt to /root/nltk_data...\n",
            "[nltk_data]   Unzipping tokenizers/punkt.zip.\n"
          ]
        },
        {
          "output_type": "execute_result",
          "data": {
            "text/plain": [
              "True"
            ]
          },
          "metadata": {},
          "execution_count": 15
        }
      ]
    },
    {
      "cell_type": "code",
      "metadata": {
        "id": "HasIc9seqssf"
      },
      "source": [
        "tokens_data = vec.fit_transform(x)"
      ],
      "execution_count": null,
      "outputs": []
    },
    {
      "cell_type": "code",
      "metadata": {
        "colab": {
          "base_uri": "https://localhost:8080/"
        },
        "id": "hKb3871frvlQ",
        "outputId": "ed025f8f-6f66-4015-bf62-2ebf5b12564a"
      },
      "source": [
        "for i in \"Locadora muito ruim com média de filmes baixa\".split(\" \"):\n",
        "  print(i)\n",
        "  token = vec.vocabulary_.get(i.lower())\n",
        "  print(token)"
      ],
      "execution_count": null,
      "outputs": [
        {
          "output_type": "stream",
          "name": "stdout",
          "text": [
            "Locadora\n",
            "46730\n",
            "muito\n",
            "52003\n",
            "ruim\n",
            "66331\n",
            "com\n",
            "16316\n",
            "média\n",
            "52379\n",
            "de\n",
            "20711\n",
            "filmes\n",
            "32901\n",
            "baixa\n",
            "8886\n"
          ]
        }
      ]
    },
    {
      "cell_type": "markdown",
      "metadata": {
        "id": "sHWTcHUvvxvw"
      },
      "source": [
        "**TF - Term Frequency - Frequência do Termo**: Mede a frequência de uma palavra em um documento.\n",
        "\n",
        "**DF - Document Frequency - Frequência do Documento**: Isso mede a importância do documento em todo o conjunto do corpus. DF é o número de documentos em que a palavra está presente\n",
        "\n",
        "**IDF - Inverse Document Frequency - Frequência Inversa do Documento**: é o inverso da frequência do documento que mede a informatividade do termo t. Quando calculamos o IDF, ele será muito baixo para as palavras de maior ocorrência, como palavras irrelevantes (porque palavras irrelevantes como \"é\" estão presentes em quase todos os documentos e N / df dará um valor muito baixo a essa palavra ) Isso finalmente nos dá o que queremos, um peso relativo.\n",
        "\n"
      ]
    },
    {
      "cell_type": "code",
      "metadata": {
        "id": "SqVUgrGYtge4"
      },
      "source": [
        "from sklearn.feature_extraction.text import TfidfTransformer\n",
        "\n",
        "tfidf = TfidfTransformer()\n",
        "tokens_tfidf = tfidf.fit_transform(tokens_data)"
      ],
      "execution_count": null,
      "outputs": []
    },
    {
      "cell_type": "code",
      "metadata": {
        "id": "313ApeD6vewW"
      },
      "source": [
        "print(tokens_tfidf)"
      ],
      "execution_count": null,
      "outputs": []
    },
    {
      "cell_type": "code",
      "metadata": {
        "colab": {
          "base_uri": "https://localhost:8080/"
        },
        "id": "aVFE1YxKwqcZ",
        "outputId": "56c112de-ca8c-45bd-8a49-cec9722b4564"
      },
      "source": [
        "from sklearn.model_selection import train_test_split\n",
        "from sklearn.naive_bayes import MultinomialNB\n",
        "from sklearn.metrics import accuracy_score\n",
        "\n",
        "x_train,x_test,y_train,y_test = train_test_split(tokens_tfidf, y,test_size = 0.2, shuffle = True)\n",
        "print(x_train.shape)\n",
        "print(y_test.shape)"
      ],
      "execution_count": null,
      "outputs": [
        {
          "output_type": "stream",
          "name": "stdout",
          "text": [
            "(39567, 80847)\n",
            "(9892,)\n"
          ]
        }
      ]
    },
    {
      "cell_type": "code",
      "metadata": {
        "colab": {
          "base_uri": "https://localhost:8080/"
        },
        "id": "zxhnsCHVxmVJ",
        "outputId": "e5aea4de-6836-4cd2-a83e-ee64fd18af04"
      },
      "source": [
        "model = MultinomialNB()\n",
        "model.fit(x_train, y_train)"
      ],
      "execution_count": null,
      "outputs": [
        {
          "output_type": "execute_result",
          "data": {
            "text/plain": [
              "MultinomialNB(alpha=1.0, class_prior=None, fit_prior=True)"
            ]
          },
          "metadata": {},
          "execution_count": 57
        }
      ]
    },
    {
      "cell_type": "code",
      "metadata": {
        "id": "Mrw9H0Xjy4tV"
      },
      "source": [
        "dataset_result = model.predict(x_test)"
      ],
      "execution_count": null,
      "outputs": []
    },
    {
      "cell_type": "code",
      "metadata": {
        "colab": {
          "base_uri": "https://localhost:8080/"
        },
        "id": "-a4EmO6gzseG",
        "outputId": "78e57eaf-dd61-4b91-a211-bd7b74514163"
      },
      "source": [
        "accuracy_score(y_test, dataset_result)"
      ],
      "execution_count": null,
      "outputs": [
        {
          "output_type": "execute_result",
          "data": {
            "text/plain": [
              "0.8624140719773554"
            ]
          },
          "metadata": {},
          "execution_count": 59
        }
      ]
    }
  ]
}
