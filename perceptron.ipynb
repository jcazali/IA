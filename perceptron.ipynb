{
  "nbformat": 4,
  "nbformat_minor": 0,
  "metadata": {
    "colab": {
      "name": "perceptron.ipynb",
      "provenance": [],
      "collapsed_sections": [],
      "authorship_tag": "ABX9TyNiQnd6oNa2hoH1Wd7iSPw9",
      "include_colab_link": true
    },
    "kernelspec": {
      "name": "python3",
      "display_name": "Python 3"
    },
    "language_info": {
      "name": "python"
    }
  },
  "cells": [
    {
      "cell_type": "markdown",
      "metadata": {
        "id": "view-in-github",
        "colab_type": "text"
      },
      "source": [
        "<a href=\"https://colab.research.google.com/github/jcazali/IA/blob/main/perceptron.ipynb\" target=\"_parent\"><img src=\"https://colab.research.google.com/assets/colab-badge.svg\" alt=\"Open In Colab\"/></a>"
      ]
    },
    {
      "cell_type": "code",
      "metadata": {
        "colab": {
          "base_uri": "https://localhost:8080/"
        },
        "id": "EiqG2e5C2Ess",
        "outputId": "fd81f86c-1768-4a89-934f-9dd598c099ba"
      },
      "source": [
        "import numpy as np\n",
        "pH = np.array([6.8, 4.7, 6, 3, 2.9, 5.5])\n",
        "peso = np.array([113, 112, 107, 95, 115, 123])\n",
        "bias = 1\n",
        "y = np.array([1, 1, 1, -1, -1, -1])\n",
        "# vstack concatena os arrays\n",
        "x = np.vstack((peso, pH)) \n",
        "erro = np.zeros(len(y))\n",
        "# learmingRate / Lr, eta\n",
        "eta = 0.1\n",
        "#epocas / epoch\n",
        "epocas = 1000000\n",
        "\n",
        "# zeros - função que popula uma matriz, no caso, com 1 linha e 3 colunas\n",
        "w = np.zeros([1, 3])\n",
        "\n",
        "# função de ativação degrau bipolar\n",
        "def ativacao(valor):\n",
        "  if valor < 0.0:\n",
        "    return -1\n",
        "  else:\n",
        "    return 1\n",
        "\n",
        "for j in range(epocas):\n",
        "  for k in range(len(y)):\n",
        "    # insere viés no vetor x\n",
        "    xb= np.hstack((bias, x[:, k]))\n",
        "    v = np.dot(w, xb)\n",
        "    # calculando a saída do perceptron\n",
        "    yr = ativacao(v)\n",
        "    # calculando o erro\n",
        "    erro[k] = y[k] - yr\n",
        "    # treinamento\n",
        "    w = w + eta * erro[k] * xb\n",
        "print('Erros ', str(erro))"
      ],
      "execution_count": null,
      "outputs": [
        {
          "output_type": "stream",
          "name": "stdout",
          "text": [
            "Erros  [0. 2. 0. 0. 0. 0.]\n"
          ]
        }
      ]
    }
  ]
}